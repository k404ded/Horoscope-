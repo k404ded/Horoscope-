{
  "nbformat": 4,
  "nbformat_minor": 0,
  "metadata": {
    "colab": {
      "provenance": []
    },
    "kernelspec": {
      "name": "python3",
      "display_name": "Python 3"
    },
    "language_info": {
      "name": "python"
    }
  },
  "cells": [
    {
      "cell_type": "code",
      "execution_count": 1,
      "metadata": {
        "colab": {
          "base_uri": "https://localhost:8080/"
        },
        "id": "YgAugYLzyf_U",
        "outputId": "bd198d7c-618a-4569-d2da-3f6074e7a736"
      },
      "outputs": [
        {
          "output_type": "stream",
          "name": "stdout",
          "text": [
            "Welcome to the Horoscope & Personality Insights Website!\n",
            "\n",
            "This website provides personalized horoscopes, Chinese zodiac readings, and a fun spirit animal test to help you understand yourself better.\n",
            "\n",
            "Features:\n",
            "- Daily Horoscope: Get a brief prediction based on your zodiac sign.\n",
            "- Chinese Zodiac: Discover your animal sign based on your birth year.\n",
            "- Spirit Animal Test: Answer a few questions to find your spirit animal.\n",
            "\n",
            "Start exploring now and gain deeper insights into your personality!\n",
            "\n",
            "Enter your zodiac sign: Scorpio\n",
            "Your Horoscope: Trust your instincts in decisions.\n",
            "Enter your birth year: 2004 \n",
            "Your Chinese Zodiac Animal is: Monkey\n",
            "Let's find your Spirit Animal!\n",
            "Do you enjoy exploring nature? (1-5): 5\n",
            "Are you highly intuitive? (1-5): 4\n",
            "Do you prefer solitude? (1-5): 2\n",
            "Do you take charge in situations? (1-5): 4\n",
            "Do you adapt easily to changes? (1-5): 3\n",
            "Your Spirit Animal is: Wolf\n"
          ]
        }
      ],
      "source": [
        "print(\"Welcome to the Horoscope & Personality Insights Website!\\n\")\n",
        "print(\"This website provides personalized horoscopes, Chinese zodiac readings, and a fun spirit animal test to help you understand yourself better.\\n\")\n",
        "print(\"Features:\")\n",
        "print(\"- Daily Horoscope: Get a brief prediction based on your zodiac sign.\")\n",
        "print(\"- Chinese Zodiac: Discover your animal sign based on your birth year.\")\n",
        "print(\"- Spirit Animal Test: Answer a few questions to find your spirit animal.\\n\")\n",
        "print(\"Start exploring now and gain deeper insights into your personality!\\n\")\n",
        "\n",
        "horoscopes = {\n",
        "    \"aries\": \"You will find energy and enthusiasm today.\",\n",
        "    \"taurus\": \"Stability and comfort will be your focus.\",\n",
        "    \"gemini\": \"Clear communication will help you today.\",\n",
        "    \"cancer\": \"Cherish emotional bonds with loved ones.\",\n",
        "    \"leo\": \"Confidence will drive you forward.\",\n",
        "    \"virgo\": \"Attention to detail will bring success.\",\n",
        "    \"libra\": \"Seek balance and avoid conflicts.\",\n",
        "    \"scorpio\": \"Trust your instincts in decisions.\",\n",
        "    \"sagittarius\": \"Adventure and excitement await you.\",\n",
        "    \"capricorn\": \"Hard work will yield results soon.\",\n",
        "    \"aquarius\": \"Creative ideas will bring opportunities.\",\n",
        "    \"pisces\": \"Compassion will bring positive outcomes.\"\n",
        "}\n",
        "\n",
        "sign = input(\"Enter your zodiac sign: \").lower()\n",
        "if sign in horoscopes:\n",
        "    print(\"Your Horoscope:\", horoscopes[sign])\n",
        "else:\n",
        "    print(\"Invalid zodiac sign. Try again.\")\n",
        "\n",
        "animals = [\"Monkey\", \"Rooster\", \"Dog\", \"Pig\", \"Rat\", \"Ox\", \"Tiger\", \"Rabbit\", \"Dragon\", \"Snake\", \"Horse\", \"Goat\"]\n",
        "year = int(input(\"Enter your birth year: \"))\n",
        "print(\"Your Chinese Zodiac Animal is:\", animals[year % 12])\n",
        "\n",
        "print(\"Let's find your Spirit Animal!\")\n",
        "questions = {\n",
        "    \"Wolf\": \"Do you enjoy exploring nature?\",\n",
        "    \"Eagle\": \"Are you highly intuitive?\",\n",
        "    \"Bear\": \"Do you prefer solitude?\",\n",
        "    \"Deer\": \"Do you take charge in situations?\",\n",
        "    \"Dolphin\": \"Do you adapt easily to changes?\"\n",
        "}\n",
        "scores = {animal: 0 for animal in questions}\n",
        "\n",
        "for animal, question in questions.items():\n",
        "    while True:\n",
        "        try:\n",
        "            answer = int(input(f\"{question} (1-5): \"))\n",
        "            if 1 <= answer <= 5:\n",
        "                scores[animal] += answer\n",
        "                break\n",
        "            else:\n",
        "                print(\"Please enter a number between 1 and 5.\")\n",
        "        except ValueError:\n",
        "            print(\"Invalid input. Enter a number between 1 and 5.\")\n",
        "\n",
        "spirit_animal = max(scores, key=scores.get)\n",
        "print(\"Your Spirit Animal is:\", spirit_animal)\n"
      ]
    }
  ]
}